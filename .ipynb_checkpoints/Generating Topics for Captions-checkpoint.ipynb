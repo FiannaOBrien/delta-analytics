{
 "cells": [
  {
   "cell_type": "code",
   "execution_count": null,
   "metadata": {},
   "outputs": [],
   "source": [
    "from ompgov_api import mock_search, search\n",
    "from model import tag_captions\n",
    "import json"
   ]
  },
  {
   "cell_type": "code",
   "execution_count": null,
   "metadata": {},
   "outputs": [],
   "source": [
    "mock_caps = mock_search.get_captions_by_session('48742')"
   ]
  },
  {
   "cell_type": "code",
   "execution_count": null,
   "metadata": {},
   "outputs": [],
   "source": [
    "captions = mock_caps['results']\n",
    "tag_captions.add_caption_topics(captions)"
   ]
  },
  {
   "cell_type": "code",
   "execution_count": null,
   "metadata": {},
   "outputs": [],
   "source": [
    "s = mock_search.get_sessions()"
   ]
  },
  {
   "cell_type": "code",
   "execution_count": null,
   "metadata": {},
   "outputs": [],
   "source": [
    "from datetime import datetime as dt\n",
    "#[d['id'] for d in s['results']]"
   ]
  },
  {
   "cell_type": "code",
   "execution_count": null,
   "metadata": {},
   "outputs": [],
   "source": [
    "sess_test = []\n",
    "for session in s['results']:\n",
    "    session_id = int(session['id'])\n",
    "    created_datetime = dt.utcfromtimestamp(int(session['created'])).strftime(\"%Y-%m-%d %H:%M:%S\")\n",
    "    sess_test.append((session_id, created_datetime))"
   ]
  },
  {
   "cell_type": "code",
   "execution_count": null,
   "metadata": {},
   "outputs": [],
   "source": [
    "ms = mock_search.get_session_by_id(101881)['results'][0]"
   ]
  },
  {
   "cell_type": "code",
   "execution_count": null,
   "metadata": {},
   "outputs": [],
   "source": [
    "#sess_test\n",
    "(int(ms['id']), dt.utcfromtimestamp(int(ms['created'])).strftime(\"%Y-%m-%d %H:%M:%S\"))"
   ]
  },
  {
   "cell_type": "code",
   "execution_count": null,
   "metadata": {},
   "outputs": [],
   "source": [
    "test = []\n",
    "for cap in captions:\n",
    "    topics = cap['topics']\n",
    "    duration = cap['duration']\n",
    "    session_id = int(cap['session_id'])\n",
    "    caption_id = int(cap['id'])\n",
    "    if not topics:\n",
    "        topics = [None]\n",
    "    for topic in topics:\n",
    "        row = [session_id, caption_id, topic, duration]\n",
    "        test.append(row)"
   ]
  },
  {
   "cell_type": "code",
   "execution_count": null,
   "metadata": {},
   "outputs": [],
   "source": [
    "test"
   ]
  },
  {
   "cell_type": "code",
   "execution_count": null,
   "metadata": {},
   "outputs": [],
   "source": [
    "import sqlite3\n",
    "conn = sqlite3.connect('example.db')\n",
    "c = conn.cursor()\n",
    "#i=65"
   ]
  },
  {
   "cell_type": "code",
   "execution_count": null,
   "metadata": {},
   "outputs": [],
   "source": [
    "i = 5\n",
    "vals = [(o,chr(o)) for o in range(i,i+5)]\n",
    "c.execute('''CREATE TABLE IF NOT EXISTS testing\n",
    "             (counting int, ascii text)''')\n",
    "c.executemany('INSERT INTO testing VALUES (?,?)', vals)"
   ]
  },
  {
   "cell_type": "code",
   "execution_count": null,
   "metadata": {},
   "outputs": [],
   "source": [
    "c.execute('SELECT * FROM testing LIMIT 100')\n",
    "c.fetchall()"
   ]
  },
  {
   "cell_type": "code",
   "execution_count": null,
   "metadata": {},
   "outputs": [],
   "source": [
    "\"\"\"\n",
    "vals = [(o,chr(o)) for o in range(i,i+5)]\n",
    "c.execute('''CREATE TABLE IF NOT EXISTS testing\n",
    "             (counting int, ascii text)''')\n",
    "c.executemany('INSERT INTO testing VALUES (?,?)', vals)\n",
    "\n",
    "i+=5\"\"\"\n",
    "c.execute('''CREATE TABLE IF NOT EXISTS session_captions\n",
    "             (session_id int, caption_id int, topic_id int, duration int)''') #CHANGE TOPIC TO INT\n",
    "c.executemany('INSERT INTO session_captions VALUES (?,?,?,?)', test)\n",
    "\n",
    "\n",
    "c.execute('''CREATE TABLE IF NOT EXISTS sessions\n",
    "             (session_id int, created_at timestamp)''')\n",
    "c.executemany('INSERT INTO sessions VALUES (?,?)', sess_test)\n",
    "\n",
    "# We can also close the connection if we are done with it.\n",
    "# Just be sure any changes have been committed or they will be lost.\n",
    "\n",
    "\n",
    "#session_captions table"
   ]
  },
  {
   "cell_type": "code",
   "execution_count": null,
   "metadata": {},
   "outputs": [],
   "source": [
    "conn = sqlite3.connect('example.db')\n",
    "c = conn.cursor()\n",
    "c.execute('SELECT * FROM session_captions LIMIT 100')\n"
   ]
  },
  {
   "cell_type": "code",
   "execution_count": null,
   "metadata": {},
   "outputs": [],
   "source": [
    "c.fetchall()\n"
   ]
  },
  {
   "cell_type": "code",
   "execution_count": null,
   "metadata": {},
   "outputs": [],
   "source": [
    "c.close()"
   ]
  },
  {
   "cell_type": "code",
   "execution_count": null,
   "metadata": {},
   "outputs": [],
   "source": [
    "topicid_2_label = {0:'water, transportation',\n",
    "                               1:'transit',\n",
    "                               2: 'service',\n",
    "                               3:\"health\",\n",
    "                               4:\"zoning\",\n",
    "                               5:\"license\",\n",
    "                               6:'crime',\n",
    "                               7: 'transit',\n",
    "                               8:'law',\n",
    "                               9:'public_space',\n",
    "                               10:'housing',\n",
    "                               11:'community',\n",
    "                               12:'education',\n",
    "                               13: 'procedural',\n",
    "                               14:'budget',\n",
    "                               15: 'procedural',\n",
    "                               16:'zoning',\n",
    "                               17:'espanol',\n",
    "                               18:'procedural',\n",
    "                               19:'housing'}\n",
    "lab_2_tid = {v:k for k,v in topicid_2_label.items()}"
   ]
  },
  {
   "cell_type": "code",
   "execution_count": null,
   "metadata": {},
   "outputs": [],
   "source": [
    "import pickle\n",
    "topic_dict = pickle.load(open(\"/Users/FLOBrien/Personal/Delta/delta-analytics/model/topics_dict.pkl\", \"rb\"))"
   ]
  },
  {
   "cell_type": "code",
   "execution_count": null,
   "metadata": {},
   "outputs": [],
   "source": [
    "topic_dict.keys()"
   ]
  },
  {
   "cell_type": "code",
   "execution_count": null,
   "metadata": {},
   "outputs": [],
   "source": [
    "lab_2_tid"
   ]
  },
  {
   "cell_type": "code",
   "execution_count": null,
   "metadata": {},
   "outputs": [],
   "source": [
    "for idx, k in enumerate(topic_dict.keys()):\n",
    "    new_id = idx+20\n",
    "    if k not in lab_2_tid.keys():\n",
    "        if new_id not in lab_2_tid.values():\n",
    "            lab_2_tid[k] = new_id\n",
    "        else:\n",
    "            print(f\"{new_id} id already in dict\")\n",
    "    else:\n",
    "        print(f\"{k} key already in dict\")"
   ]
  },
  {
   "cell_type": "code",
   "execution_count": null,
   "metadata": {},
   "outputs": [],
   "source": [
    "lab_2_tid"
   ]
  },
  {
   "cell_type": "code",
   "execution_count": null,
   "metadata": {},
   "outputs": [],
   "source": [
    "pickle.dump(lab_2_tid, open(\"distinct_topic_ids.pkl\", \"wb\"))"
   ]
  },
  {
   "cell_type": "code",
   "execution_count": null,
   "metadata": {},
   "outputs": [],
   "source": [
    "topic_dict = pickle.load(open(\"distinct_topic_ids.pkl\", \"rb\"))"
   ]
  },
  {
   "cell_type": "code",
   "execution_count": null,
   "metadata": {},
   "outputs": [],
   "source": [
    "import store_topics"
   ]
  },
  {
   "cell_type": "code",
   "execution_count": null,
   "metadata": {},
   "outputs": [],
   "source": [
    "store_topics.store_captions('48742')"
   ]
  },
  {
   "cell_type": "code",
   "execution_count": null,
   "metadata": {},
   "outputs": [],
   "source": [
    "topic_dict"
   ]
  },
  {
   "cell_type": "code",
   "execution_count": null,
   "metadata": {},
   "outputs": [],
   "source": [
    "captions = mock_search.get_captions_by_session(48742)['results']\n",
    "tag_captions.add_caption_topics(captions)"
   ]
  },
  {
   "cell_type": "code",
   "execution_count": null,
   "metadata": {},
   "outputs": [],
   "source": [
    "captions"
   ]
  },
  {
   "cell_type": "code",
   "execution_count": null,
   "metadata": {},
   "outputs": [],
   "source": [
    "import store_topics"
   ]
  },
  {
   "cell_type": "code",
   "execution_count": null,
   "metadata": {},
   "outputs": [],
   "source": [
    "caption_rows = []\n",
    "for cap in captions:\n",
    "    topics = cap['topics']\n",
    "    duration = cap['duration']\n",
    "    session_id = int(cap['session_id'])\n",
    "    caption_id = int(cap['id'])\n",
    "    if not topics:\n",
    "        topics = [None]\n",
    "    for topic in topics:\n",
    "        row = [session_id, caption_id, topic, duration]\n",
    "        caption_rows.append(row)"
   ]
  },
  {
   "cell_type": "code",
   "execution_count": null,
   "metadata": {},
   "outputs": [],
   "source": [
    "store_topics.sql_store_caption_data(caption_rows)"
   ]
  },
  {
   "cell_type": "code",
   "execution_count": null,
   "metadata": {},
   "outputs": [],
   "source": [
    "sess_test"
   ]
  },
  {
   "cell_type": "code",
   "execution_count": null,
   "metadata": {},
   "outputs": [],
   "source": [
    "for d in s['results']:\n",
    "    store_topics.store_session(d['id'])"
   ]
  },
  {
   "cell_type": "code",
   "execution_count": null,
   "metadata": {},
   "outputs": [],
   "source": [
    "ids"
   ]
  },
  {
   "cell_type": "code",
   "execution_count": null,
   "metadata": {},
   "outputs": [],
   "source": []
  }
 ],
 "metadata": {
  "kernelspec": {
   "display_name": "Python 3",
   "language": "python",
   "name": "python3"
  },
  "language_info": {
   "codemirror_mode": {
    "name": "ipython",
    "version": 3
   },
   "file_extension": ".py",
   "mimetype": "text/x-python",
   "name": "python",
   "nbconvert_exporter": "python",
   "pygments_lexer": "ipython3",
   "version": "3.7.3"
  }
 },
 "nbformat": 4,
 "nbformat_minor": 2
}
